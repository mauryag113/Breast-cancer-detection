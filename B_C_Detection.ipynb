{
  "nbformat": 4,
  "nbformat_minor": 0,
  "metadata": {
    "colab": {
      "name": "B_C_Detection.ipynb",
      "provenance": [],
      "collapsed_sections": []
    },
    "kernelspec": {
      "name": "python3",
      "display_name": "Python 3"
    },
    "accelerator": "GPU"
  },
  "cells": [
    {
      "cell_type": "code",
      "metadata": {
        "id": "pcMDmwJAkJsf",
        "colab_type": "code",
        "colab": {
          "base_uri": "https://localhost:8080/",
          "height": 62
        },
        "outputId": "4f1b3be9-cce4-4905-9d0e-66c8e8453512"
      },
      "source": [
        "# -*- coding: utf-8 -*-\n",
        "\n",
        "import os\n",
        "\n",
        "from tensorflow.keras import layers\n",
        "from tensorflow.keras import Model\n",
        "\n",
        "from tensorflow.keras.preprocessing.image import ImageDataGenerator\n",
        "from tensorflow.keras.applications.inception_v3 import InceptionV3\n",
        "from tensorflow.keras.applications.densenet import DenseNet201\n",
        "from tensorflow.keras.callbacks import ModelCheckpoint\n",
        "\n",
        "from tensorflow.keras.optimizers import RMSprop,Adam\n"
      ],
      "execution_count": 3,
      "outputs": [
        {
          "output_type": "display_data",
          "data": {
            "text/html": [
              "<p style=\"color: red;\">\n",
              "The default version of TensorFlow in Colab will soon switch to TensorFlow 2.x.<br>\n",
              "We recommend you <a href=\"https://www.tensorflow.org/guide/migrate\" target=\"_blank\">upgrade</a> now \n",
              "or ensure your notebook will continue to use TensorFlow 1.x via the <code>%tensorflow_version 1.x</code> magic:\n",
              "<a href=\"https://colab.research.google.com/notebooks/tensorflow_version.ipynb\" target=\"_blank\">more info</a>.</p>\n"
            ],
            "text/plain": [
              "<IPython.core.display.HTML object>"
            ]
          },
          "metadata": {
            "tags": []
          }
        }
      ]
    },
    {
      "cell_type": "code",
      "metadata": {
        "id": "VvgpHWPEkVJV",
        "colab_type": "code",
        "outputId": "82248c86-5979-4723-f111-ff18b8d89858",
        "colab": {
          "base_uri": "https://localhost:8080/",
          "height": 121
        }
      },
      "source": [
        "pre_trained_model_2 = DenseNet201(\n",
        "    weights='imagenet',\n",
        "    include_top=False,\n",
        "    input_shape=(224, 224, 3))\n",
        "\n",
        "# pre_trained_model_2.summary()\n",
        "\n"
      ],
      "execution_count": 4,
      "outputs": [
        {
          "output_type": "stream",
          "text": [
            "WARNING:tensorflow:From /tensorflow-1.15.0/python3.6/tensorflow_core/python/ops/resource_variable_ops.py:1630: calling BaseResourceVariable.__init__ (from tensorflow.python.ops.resource_variable_ops) with constraint is deprecated and will be removed in a future version.\n",
            "Instructions for updating:\n",
            "If using Keras pass *_constraint arguments to layers.\n",
            "Downloading data from https://github.com/keras-team/keras-applications/releases/download/densenet/densenet201_weights_tf_dim_ordering_tf_kernels_notop.h5\n",
            "74842112/74836368 [==============================] - 2s 0us/step\n"
          ],
          "name": "stdout"
        }
      ]
    },
    {
      "cell_type": "code",
      "metadata": {
        "id": "kc2Y7nFGkXx5",
        "colab_type": "code",
        "outputId": "20a481b9-cfee-4f18-885c-15e590aa33ed",
        "colab": {
          "base_uri": "https://localhost:8080/",
          "height": 87
        }
      },
      "source": [
        "x = layers.GlobalAveragePooling2D()(pre_trained_model_2.output)\n",
        "x = layers.Dropout(0.2)(x)\n",
        "x = layers.BatchNormalization()(x)\n",
        "x = layers.Dense  (1, activation='sigmoid')(x)\n",
        "\n",
        "model = Model( pre_trained_model_2.input, x) \n",
        "\n",
        "model.compile(optimizer = Adam(lr=0.0001), \n",
        "              loss = 'binary_crossentropy', \n",
        "              metrics = ['acc'])"
      ],
      "execution_count": 5,
      "outputs": [
        {
          "output_type": "stream",
          "text": [
            "WARNING:tensorflow:From /tensorflow-1.15.0/python3.6/tensorflow_core/python/ops/nn_impl.py:183: where (from tensorflow.python.ops.array_ops) is deprecated and will be removed in a future version.\n",
            "Instructions for updating:\n",
            "Use tf.where in 2.0, which has the same broadcast rule as np.where\n"
          ],
          "name": "stdout"
        }
      ]
    },
    {
      "cell_type": "code",
      "metadata": {
        "id": "fhYQrSDlkYph",
        "colab_type": "code",
        "outputId": "95fef8cb-81f7-4db0-a26e-626f27709409",
        "colab": {
          "base_uri": "https://localhost:8080/",
          "height": 50
        }
      },
      "source": [
        "train_dir = \"/content/data/train/\"\n",
        "test_dir = \"/content/data/validation/\"\n",
        "\n",
        "train_datagen = ImageDataGenerator(rescale = 1./255.,\n",
        "                                   rotation_range = 40,\n",
        "                                   width_shift_range = 0.2,\n",
        "                                   height_shift_range = 0.2,\n",
        "                                   shear_range = 0.2,\n",
        "                                   zoom_range = 0.2,\n",
        "                                   horizontal_flip = True)\n",
        "\n",
        "# Note that the validation data should not be augmented!\n",
        "test_datagen = ImageDataGenerator( rescale = 1.0/255. )\n",
        "\n",
        "\n",
        "# Flow training images in batches of 20 using train_datagen generator\n",
        "train_generator = train_datagen.flow_from_directory(train_dir,\n",
        "                                                    batch_size = 10,\n",
        "                                                    class_mode = 'binary',\n",
        "                                                    target_size = (224, 224))\n",
        "\n",
        "# Flow validation images in batches of 20 using test_datagen generator\n",
        "validation_generator =  test_datagen.flow_from_directory( test_dir,\n",
        "                                                          batch_size  = 10,\n",
        "                                                          class_mode  = 'binary',\n",
        "                                                          target_size = (224, 224))\n"
      ],
      "execution_count": 7,
      "outputs": [
        {
          "output_type": "stream",
          "text": [
            "Found 1000 images belonging to 2 classes.\n",
            "Found 273 images belonging to 2 classes.\n"
          ],
          "name": "stdout"
        }
      ]
    },
    {
      "cell_type": "code",
      "metadata": {
        "id": "OxLi51dR1rlO",
        "colab_type": "code",
        "outputId": "3ae90fcc-de87-4abe-9b27-019661487223",
        "colab": {
          "base_uri": "https://localhost:8080/",
          "height": 1000
        }
      },
      "source": [
        "filepath=\"/content/weights_best.hdf5\"\n",
        "checkpoint = ModelCheckpoint(filepath, monitor='val_acc', verbose=1, save_best_only=True, mode='max')\n",
        "\n",
        "\n",
        "history = model.fit_generator(\n",
        "            train_generator,\n",
        "            validation_data = validation_generator,\n",
        "            steps_per_epoch = 50,\n",
        "            epochs = 20,\n",
        "            validation_steps = 10,\n",
        "            verbose = 2,\n",
        "            callbacks=[checkpoint])"
      ],
      "execution_count": 9,
      "outputs": [
        {
          "output_type": "stream",
          "text": [
            "Epoch 1/20\n",
            "Epoch 1/20\n",
            "\n",
            "Epoch 00001: val_acc improved from -inf to 0.61000, saving model to /content/weights_best.hdf5\n",
            "50/50 - 229s - loss: 0.1950 - acc: 0.9240 - val_loss: 1.6428 - val_acc: 0.6100\n",
            "Epoch 2/20\n",
            "Epoch 1/20\n",
            "\n",
            "Epoch 00002: val_acc improved from 0.61000 to 0.67000, saving model to /content/weights_best.hdf5\n",
            "50/50 - 17s - loss: 0.1895 - acc: 0.9260 - val_loss: 1.0583 - val_acc: 0.6700\n",
            "Epoch 3/20\n",
            "Epoch 1/20\n",
            "\n",
            "Epoch 00003: val_acc did not improve from 0.67000\n",
            "50/50 - 15s - loss: 0.1480 - acc: 0.9500 - val_loss: 1.9618 - val_acc: 0.6000\n",
            "Epoch 4/20\n",
            "Epoch 1/20\n",
            "\n",
            "Epoch 00004: val_acc improved from 0.67000 to 0.91000, saving model to /content/weights_best.hdf5\n",
            "50/50 - 18s - loss: 0.1752 - acc: 0.9280 - val_loss: 0.2935 - val_acc: 0.9100\n",
            "Epoch 5/20\n",
            "Epoch 1/20\n",
            "\n",
            "Epoch 00005: val_acc did not improve from 0.91000\n",
            "50/50 - 15s - loss: 0.1363 - acc: 0.9520 - val_loss: 1.7526 - val_acc: 0.6300\n",
            "Epoch 6/20\n",
            "Epoch 1/20\n",
            "\n",
            "Epoch 00006: val_acc did not improve from 0.91000\n",
            "50/50 - 16s - loss: 0.0882 - acc: 0.9640 - val_loss: 1.2178 - val_acc: 0.7400\n",
            "Epoch 7/20\n",
            "Epoch 1/20\n",
            "\n",
            "Epoch 00007: val_acc improved from 0.91000 to 0.95000, saving model to /content/weights_best.hdf5\n",
            "50/50 - 18s - loss: 0.1275 - acc: 0.9600 - val_loss: 0.1412 - val_acc: 0.9500\n",
            "Epoch 8/20\n",
            "Epoch 1/20\n",
            "\n",
            "Epoch 00008: val_acc improved from 0.95000 to 0.98000, saving model to /content/weights_best.hdf5\n",
            "50/50 - 19s - loss: 0.1231 - acc: 0.9500 - val_loss: 0.0564 - val_acc: 0.9800\n",
            "Epoch 9/20\n",
            "Epoch 1/20\n",
            "\n",
            "Epoch 00009: val_acc did not improve from 0.98000\n",
            "50/50 - 15s - loss: 0.1759 - acc: 0.9320 - val_loss: 0.0601 - val_acc: 0.9700\n",
            "Epoch 10/20\n",
            "Epoch 1/20\n",
            "\n",
            "Epoch 00010: val_acc did not improve from 0.98000\n",
            "50/50 - 15s - loss: 0.0748 - acc: 0.9720 - val_loss: 0.5525 - val_acc: 0.8300\n",
            "Epoch 11/20\n",
            "Epoch 1/20\n",
            "\n",
            "Epoch 00011: val_acc did not improve from 0.98000\n",
            "50/50 - 15s - loss: 0.0932 - acc: 0.9700 - val_loss: 0.1452 - val_acc: 0.9400\n",
            "Epoch 12/20\n",
            "Epoch 1/20\n",
            "\n",
            "Epoch 00012: val_acc did not improve from 0.98000\n",
            "50/50 - 15s - loss: 0.0351 - acc: 0.9900 - val_loss: 0.0497 - val_acc: 0.9800\n",
            "Epoch 13/20\n",
            "Epoch 1/20\n",
            "\n",
            "Epoch 00013: val_acc improved from 0.98000 to 0.99000, saving model to /content/weights_best.hdf5\n",
            "50/50 - 18s - loss: 0.0834 - acc: 0.9640 - val_loss: 0.0587 - val_acc: 0.9900\n",
            "Epoch 14/20\n",
            "Epoch 1/20\n",
            "\n",
            "Epoch 00014: val_acc did not improve from 0.99000\n",
            "50/50 - 15s - loss: 0.0805 - acc: 0.9760 - val_loss: 0.1223 - val_acc: 0.9500\n",
            "Epoch 15/20\n",
            "Epoch 1/20\n",
            "\n",
            "Epoch 00015: val_acc did not improve from 0.99000\n",
            "50/50 - 16s - loss: 0.0666 - acc: 0.9780 - val_loss: 0.8177 - val_acc: 0.7900\n",
            "Epoch 16/20\n",
            "Epoch 1/20\n",
            "\n",
            "Epoch 00016: val_acc did not improve from 0.99000\n",
            "50/50 - 15s - loss: 0.0622 - acc: 0.9740 - val_loss: 0.0255 - val_acc: 0.9900\n",
            "Epoch 17/20\n",
            "Epoch 1/20\n",
            "\n",
            "Epoch 00017: val_acc did not improve from 0.99000\n",
            "50/50 - 15s - loss: 0.0500 - acc: 0.9780 - val_loss: 0.0287 - val_acc: 0.9800\n",
            "Epoch 18/20\n",
            "Epoch 1/20\n",
            "\n",
            "Epoch 00018: val_acc did not improve from 0.99000\n",
            "50/50 - 15s - loss: 0.0434 - acc: 0.9820 - val_loss: 0.1275 - val_acc: 0.9500\n",
            "Epoch 19/20\n",
            "Epoch 1/20\n",
            "\n",
            "Epoch 00019: val_acc did not improve from 0.99000\n",
            "50/50 - 16s - loss: 0.0637 - acc: 0.9760 - val_loss: 0.0856 - val_acc: 0.9700\n",
            "Epoch 20/20\n",
            "Epoch 1/20\n",
            "\n",
            "Epoch 00020: val_acc did not improve from 0.99000\n",
            "50/50 - 16s - loss: 0.0517 - acc: 0.9780 - val_loss: 0.0392 - val_acc: 0.9800\n"
          ],
          "name": "stdout"
        }
      ]
    },
    {
      "cell_type": "code",
      "metadata": {
        "id": "iQ_RkXm0kd4x",
        "colab_type": "code",
        "outputId": "5a93e0c6-f3d6-44ec-965f-c07b8d54ee7a",
        "colab": {
          "base_uri": "https://localhost:8080/",
          "height": 298
        }
      },
      "source": [
        "import matplotlib.pyplot as plt\n",
        "acc = history.history['acc']\n",
        "val_acc = history.history['val_acc']\n",
        "loss = history.history['loss']\n",
        "val_loss = history.history['val_loss']\n",
        "\n",
        "epochs = range(len(acc))\n",
        "\n",
        "plt.plot(epochs, acc, 'r', label='Training accuracy')\n",
        "plt.plot(epochs, val_acc, 'b', label='Validation accuracy')\n",
        "plt.title('Training and validation accuracy')\n",
        "plt.legend(loc=0)\n",
        "plt.figure()\n",
        "\n",
        "\n",
        "plt.show()"
      ],
      "execution_count": 10,
      "outputs": [
        {
          "output_type": "display_data",
          "data": {
            "image/png": "[encoded data removed]",
            "text/plain": [
              "<Figure size 432x288 with 1 Axes>"
            ]
          },
          "metadata": {
            "tags": []
          }
        },
        {
          "output_type": "display_data",
          "data": {
            "text/plain": [
              "<Figure size 432x288 with 0 Axes>"
            ]
          },
          "metadata": {
            "tags": []
          }
        }
      ]
    },
    {
      "cell_type": "code",
      "metadata": {
        "id": "43fpt-kbkeKr",
        "colab_type": "code",
        "colab": {}
      },
      "source": [
        ""
      ],
      "execution_count": 0,
      "outputs": []
    }
  ]
}